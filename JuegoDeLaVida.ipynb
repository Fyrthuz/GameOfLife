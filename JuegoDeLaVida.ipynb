{
 "cells": [
  {
   "cell_type": "code",
   "execution_count": 2,
   "id": "ccc65022",
   "metadata": {},
   "outputs": [
    {
     "name": "stdout",
     "output_type": "stream",
     "text": [
      "[[1 1 1 ... 0 0 0]\n",
      " [0 0 1 ... 1 0 0]\n",
      " [1 1 0 ... 1 0 1]\n",
      " ...\n",
      " [1 1 1 ... 0 1 1]\n",
      " [0 0 1 ... 0 1 0]\n",
      " [1 1 0 ... 1 1 1]]\n"
     ]
    }
   ],
   "source": [
    "from turtle import width\n",
    "import numpy as np\n",
    "import pygame\n",
    "import time\n",
    "\n",
    "nCols, nRows = 50, 50\n",
    "width, height = 800, 800\n",
    "\n",
    "widthPerCol = width / nCols\n",
    "heightPerRow = height / nRows\n",
    "\n",
    "matrix = np.random.randint(2,size=(nRows,nCols))\n",
    "\n",
    "liveCellColor = (255,255,255)\n",
    "deadCellColor = (0,0,0)\n",
    "\n",
    "\n",
    "\n",
    "print(matrix)"
   ]
  },
  {
   "cell_type": "code",
   "execution_count": 3,
   "id": "2c5ae167",
   "metadata": {},
   "outputs": [],
   "source": [
    "def vecinos(i,j,matriz):\n",
    "    count = 0\n",
    "    \n",
    "    neighbours = [\n",
    "    ((i+1)%nRows,j%nCols),\n",
    "    ((i+1)%nRows,(j+1)%nCols),\n",
    "    ((i+1)%nRows,(j-1)%nCols),\n",
    "    ((i-1)%nRows,j%nCols),\n",
    "    ((i-1)%nRows,(j-1)%nCols),\n",
    "    ((i-1)%nRows,(j+1)%nCols),\n",
    "    ((i)%nRows,(j+1)%nCols),\n",
    "    ((i)%nRows,(j-1)%nCols)]\n",
    "    \n",
    "    for neigh in neighbours:\n",
    "        if matriz.item((neigh[0],neigh[1]))==1:\n",
    "            count+=1\n",
    "    return count\n",
    "    \n",
    "def vecinos_hexagonales(i,j,matriz):\n",
    "    count = 0\n",
    "    \n",
    "    neighbours = [\n",
    "    ((i+1)%nRows,j%nCols),\n",
    "    ((i+1)%nRows,(j+1)%nCols),\n",
    "    ((i+1)%nRows,(j-1)%nCols),\n",
    "    ((i-1)%nRows,j%nCols),\n",
    "    ((i-1)%nRows,(j-1)%nCols),\n",
    "    ((i-1)%nRows,(j+1)%nCols)]\n",
    "    \n",
    "    for neigh in neighbours:\n",
    "        if matriz.item((neigh[0],neigh[1]))==1:\n",
    "            count+=1\n",
    "    return count\n",
    "    "
   ]
  },
  {
   "cell_type": "code",
   "execution_count": null,
   "id": "7689481c",
   "metadata": {},
   "outputs": [],
   "source": [
    "screen = pygame.display.set_mode((width, height))\n",
    "screen.fill((0, 0, 0))\n",
    "while True:\n",
    "    pygame.event.pump()\n",
    "    count = 0\n",
    "    for i in range(nRows):\n",
    "        for j in range(nCols):\n",
    "            if matrix.item((i,j))==1:\n",
    "                pygame.draw.rect(screen, liveCellColor, pygame.Rect(heightPerRow*i, widthPerCol*j, heightPerRow*(i+1), widthPerCol*(j+1)))\n",
    "                count=1\n",
    "            else:\n",
    "                pygame.draw.rect(screen, deadCellColor, pygame.Rect(heightPerRow*i, widthPerCol*j, heightPerRow*(i+1), widthPerCol*(j+1)),  0)\n",
    "    for i in range(nRows):\n",
    "        for j in range(nCols):\n",
    "            pygame.draw.rect(screen, liveCellColor, pygame.Rect(heightPerRow*i, widthPerCol*j, heightPerRow*(i+1), widthPerCol*(j+1)),1)\n",
    "    pygame.display.flip()\n",
    "    newBoard = matrix.copy()\n",
    "    for i in range(nRows):\n",
    "        for j in range(nCols):\n",
    "            if (vecinos(i,j,newBoard)<2 or vecinos(i,j,newBoard)>3) and newBoard.item((i,j))==1:\n",
    "                matrix[i][j]=0\n",
    "            if (vecinos(i,j,newBoard)==3) and newBoard.item((i,j))==0:\n",
    "                matrix[i][j]=1\n",
    "    if count==0:\n",
    "        break\n",
    "    time.sleep(0.05)\n",
    "time.sleep(1)\n",
    "pygame.quit()\n",
    "\n"
   ]
  },
  {
   "cell_type": "code",
   "execution_count": 3,
   "id": "62e7be6c",
   "metadata": {},
   "outputs": [
    {
     "data": {
      "text/plain": [
       "3"
      ]
     },
     "execution_count": 3,
     "metadata": {},
     "output_type": "execute_result"
    }
   ],
   "source": [
    "vecinos(1,1,matrix)"
   ]
  },
  {
   "cell_type": "code",
   "execution_count": 5,
   "id": "6813daf9",
   "metadata": {},
   "outputs": [],
   "source": [
    "matrix_hexagonal = np.random.randint(2,size=(nRows,nCols))\n",
    "\n",
    "liveCellColor = (255,255,255)\n",
    "deadCellColor = (0,0,0)\n",
    "\n",
    "for i in range(nRows):\n",
    "    for j in range(nCols):\n",
    "        if (i+j)%2!=0:\n",
    "            matrix_hexagonal[i][j]=-1"
   ]
  },
  {
   "cell_type": "code",
   "execution_count": null,
   "id": "513e726b",
   "metadata": {},
   "outputs": [],
   "source": [
    "screen = pygame.display.set_mode((width, height))\n",
    "screen.fill((0, 0, 0))\n",
    "while True:\n",
    "    pygame.event.pump()\n",
    "    count = 0\n",
    "    for i in range(nRows):\n",
    "        for j in range(nCols):\n",
    "            if matrix.item((i,j))==1:\n",
    "                pygame.draw.rect(screen, liveCellColor, pygame.Rect(heightPerRow*i, widthPerCol*j, heightPerRow*(i+1), widthPerCol*(j+1)))\n",
    "                count=1\n",
    "            else:\n",
    "                pygame.draw.rect(screen, deadCellColor, pygame.Rect(heightPerRow*i, widthPerCol*j, heightPerRow*(i+1), widthPerCol*(j+1)),  0)\n",
    "    for i in range(nRows):\n",
    "        for j in range(nCols):\n",
    "            pygame.draw.rect(screen, liveCellColor, pygame.Rect(heightPerRow*i, widthPerCol*j, heightPerRow*(i+1), widthPerCol*(j+1)),1)\n",
    "    pygame.display.flip()\n",
    "    newBoard = matrix.copy()\n",
    "    for i in range(nRows):\n",
    "        for j in range(nCols):\n",
    "            if (vecinos(i,j,newBoard)<2 or vecinos(i,j,newBoard)>3) and newBoard.item((i,j))==1:\n",
    "                matrix[i][j]=0\n",
    "            if (vecinos(i,j,newBoard)==3) and newBoard.item((i,j))==0:\n",
    "                matrix[i][j]=1\n",
    "    if count==0:\n",
    "        break\n",
    "    time.sleep(0.05)\n",
    "time.sleep(1)\n",
    "pygame.quit()"
   ]
  }
 ],
 "metadata": {
  "kernelspec": {
   "display_name": "Python 3",
   "language": "python",
   "name": "python3"
  },
  "language_info": {
   "codemirror_mode": {
    "name": "ipython",
    "version": 3
   },
   "file_extension": ".py",
   "mimetype": "text/x-python",
   "name": "python",
   "nbconvert_exporter": "python",
   "pygments_lexer": "ipython3",
   "version": "3.8.8"
  }
 },
 "nbformat": 4,
 "nbformat_minor": 5
}
